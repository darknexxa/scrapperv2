{
 "cells": [
  {
   "cell_type": "code",
   "execution_count": 12,
   "metadata": {},
   "outputs": [],
   "source": [
    "import img2pdf\n",
    "import os\n",
    "from PyPDF2 import PdfFileWriter, PdfFileReader\n",
    "\n",
    "def neoconvert(manga_source,manga_id,number_of_page):\n",
    "    foldername = manga_id\n",
    "    img_group = manga_id\n",
    "#     for x in range(1,int(number_of_page)+1):\n",
    "#         pdf_bytes = img2pdf.convert([foldername+\"/1.jpg\"])\n",
    "#         file = open(\"./\"+manga_source+\"/\"+foldername+\"/\"+img_group+\".pdf\",\"wb\")\n",
    "#         file.write(pdf_bytes)\n",
    "#     print(\"Done convert : \"+str(number_of_page)+\" pages of \"+foldername+\" to pdf\")\n",
    "#     print(\"PDF location : ./\"+manga_source+\"/\"+foldername+\"/\")\n",
    "    with open(\"./\"+manga_source+\"/\"+foldername+\"/\"+img_group+\".pdf\",\"w\") as f:\n",
    "        f.write(img2pdf.convert([\"1.jpg\", \"2.jpg\"]))\n",
    "#         f.write(img2pdf.convert([i for i in os.listdir(\"./\"+manga_source+\"/\"+foldername+\"/\") if i.endswith(\".jpg\")]))\n",
    "\n",
    "# # Creating a routine that appends files to the output file\n",
    "# def append_pdf(input,output):\n",
    "#     [output.addPage(input.getPage(page_num)) for page_num in range(input.numPages)]\n",
    "\n",
    "# # Creating an object where pdf pages are appended to\n",
    "# output = PdfFileWriter()\n",
    "\n",
    "# # Appending two pdf-pages from two different files\n",
    "# for x in range(1,number_of_page):\n",
    "# \tappend_pdf(PdfFileReader(open(foldername+\"/pdf/\"+img_group+\"_\"+str(x)+\".pdf\",\"rb\")),output)\n",
    "\n",
    "# # Writing all the collected pages to a file\n",
    "# output.write(open(foldername+\"/\"+foldername+\".pdf\",\"wb\"))\n",
    "\n",
    "# print(\"Done merge : \"+foldername+\" pdfs\")\n",
    "# print(\"PDF location : \"+foldername+\"/\")"
   ]
  },
  {
   "cell_type": "code",
   "execution_count": 13,
   "metadata": {},
   "outputs": [
    {
     "ename": "TypeError",
     "evalue": "a bytes-like object is required, not 'str'",
     "output_type": "error",
     "traceback": [
      "\u001b[0;31m---------------------------------------------------------------------------\u001b[0m",
      "\u001b[0;31mTypeError\u001b[0m                                 Traceback (most recent call last)",
      "\u001b[0;32m<ipython-input-13-db516d8374db>\u001b[0m in \u001b[0;36m<module>\u001b[0;34m()\u001b[0m\n\u001b[0;32m----> 1\u001b[0;31m \u001b[0mneoconvert\u001b[0m\u001b[0;34m(\u001b[0m\u001b[0;34m\"erolord\"\u001b[0m\u001b[0;34m,\u001b[0m\u001b[0;34m\"2039109\"\u001b[0m\u001b[0;34m,\u001b[0m\u001b[0;36m23\u001b[0m\u001b[0;34m)\u001b[0m\u001b[0;34m\u001b[0m\u001b[0m\n\u001b[0m",
      "\u001b[0;32m<ipython-input-12-8f5d409d1081>\u001b[0m in \u001b[0;36mneoconvert\u001b[0;34m(manga_source, manga_id, number_of_page)\u001b[0m\n\u001b[1;32m     13\u001b[0m \u001b[0;31m#     print(\"PDF location : ./\"+manga_source+\"/\"+foldername+\"/\")\u001b[0m\u001b[0;34m\u001b[0m\u001b[0;34m\u001b[0m\u001b[0m\n\u001b[1;32m     14\u001b[0m     \u001b[0;32mwith\u001b[0m \u001b[0mopen\u001b[0m\u001b[0;34m(\u001b[0m\u001b[0;34m\"./\"\u001b[0m\u001b[0;34m+\u001b[0m\u001b[0mmanga_source\u001b[0m\u001b[0;34m+\u001b[0m\u001b[0;34m\"/\"\u001b[0m\u001b[0;34m+\u001b[0m\u001b[0mfoldername\u001b[0m\u001b[0;34m+\u001b[0m\u001b[0;34m\"/\"\u001b[0m\u001b[0;34m+\u001b[0m\u001b[0mimg_group\u001b[0m\u001b[0;34m+\u001b[0m\u001b[0;34m\".pdf\"\u001b[0m\u001b[0;34m,\u001b[0m\u001b[0;34m\"w\"\u001b[0m\u001b[0;34m)\u001b[0m \u001b[0;32mas\u001b[0m \u001b[0mf\u001b[0m\u001b[0;34m:\u001b[0m\u001b[0;34m\u001b[0m\u001b[0m\n\u001b[0;32m---> 15\u001b[0;31m         \u001b[0mf\u001b[0m\u001b[0;34m.\u001b[0m\u001b[0mwrite\u001b[0m\u001b[0;34m(\u001b[0m\u001b[0mimg2pdf\u001b[0m\u001b[0;34m.\u001b[0m\u001b[0mconvert\u001b[0m\u001b[0;34m(\u001b[0m\u001b[0;34m[\u001b[0m\u001b[0;34m\"1.jpg\"\u001b[0m\u001b[0;34m,\u001b[0m \u001b[0;34m\"2.jpg\"\u001b[0m\u001b[0;34m]\u001b[0m\u001b[0;34m)\u001b[0m\u001b[0;34m)\u001b[0m\u001b[0;34m\u001b[0m\u001b[0m\n\u001b[0m\u001b[1;32m     16\u001b[0m \u001b[0;31m#         f.write(img2pdf.convert([i for i in os.listdir(\"./\"+manga_source+\"/\"+foldername+\"/\") if i.endswith(\".jpg\")]))\u001b[0m\u001b[0;34m\u001b[0m\u001b[0;34m\u001b[0m\u001b[0m\n\u001b[1;32m     17\u001b[0m \u001b[0;34m\u001b[0m\u001b[0m\n",
      "\u001b[0;32m/usr/local/lib/python3.6/site-packages/img2pdf.py\u001b[0m in \u001b[0;36mconvert\u001b[0;34m(*images, **kwargs)\u001b[0m\n\u001b[1;32m   1049\u001b[0m         \u001b[0;32mfor\u001b[0m \u001b[0mcolor\u001b[0m\u001b[0;34m,\u001b[0m \u001b[0mndpi\u001b[0m\u001b[0;34m,\u001b[0m \u001b[0mimgformat\u001b[0m\u001b[0;34m,\u001b[0m \u001b[0mimgdata\u001b[0m\u001b[0;34m,\u001b[0m \u001b[0mimgwidthpx\u001b[0m\u001b[0;34m,\u001b[0m \u001b[0mimgheightpx\u001b[0m\u001b[0;31m \u001b[0m\u001b[0;31m\\\u001b[0m\u001b[0;34m\u001b[0m\u001b[0m\n\u001b[1;32m   1050\u001b[0m                 in read_images(\n\u001b[0;32m-> 1051\u001b[0;31m                     rawdata, kwargs['colorspace'], kwargs['first_frame_only']):\n\u001b[0m\u001b[1;32m   1052\u001b[0m             \u001b[0mpagewidth\u001b[0m\u001b[0;34m,\u001b[0m \u001b[0mpageheight\u001b[0m\u001b[0;34m,\u001b[0m \u001b[0mimgwidthpdf\u001b[0m\u001b[0;34m,\u001b[0m \u001b[0mimgheightpdf\u001b[0m \u001b[0;34m=\u001b[0m\u001b[0;31m \u001b[0m\u001b[0;31m\\\u001b[0m\u001b[0;34m\u001b[0m\u001b[0m\n\u001b[1;32m   1053\u001b[0m                 \u001b[0mkwargs\u001b[0m\u001b[0;34m[\u001b[0m\u001b[0;34m'layout_fun'\u001b[0m\u001b[0;34m]\u001b[0m\u001b[0;34m(\u001b[0m\u001b[0mimgwidthpx\u001b[0m\u001b[0;34m,\u001b[0m \u001b[0mimgheightpx\u001b[0m\u001b[0;34m,\u001b[0m \u001b[0mndpi\u001b[0m\u001b[0;34m)\u001b[0m\u001b[0;34m\u001b[0m\u001b[0m\n",
      "\u001b[0;32m/usr/local/lib/python3.6/site-packages/img2pdf.py\u001b[0m in \u001b[0;36mread_images\u001b[0;34m(rawdata, colorspace, first_frame_only)\u001b[0m\n\u001b[1;32m    665\u001b[0m \u001b[0;34m\u001b[0m\u001b[0m\n\u001b[1;32m    666\u001b[0m \u001b[0;32mdef\u001b[0m \u001b[0mread_images\u001b[0m\u001b[0;34m(\u001b[0m\u001b[0mrawdata\u001b[0m\u001b[0;34m,\u001b[0m \u001b[0mcolorspace\u001b[0m\u001b[0;34m,\u001b[0m \u001b[0mfirst_frame_only\u001b[0m\u001b[0;34m=\u001b[0m\u001b[0;32mFalse\u001b[0m\u001b[0;34m)\u001b[0m\u001b[0;34m:\u001b[0m\u001b[0;34m\u001b[0m\u001b[0m\n\u001b[0;32m--> 667\u001b[0;31m     \u001b[0mim\u001b[0m \u001b[0;34m=\u001b[0m \u001b[0mBytesIO\u001b[0m\u001b[0;34m(\u001b[0m\u001b[0mrawdata\u001b[0m\u001b[0;34m)\u001b[0m\u001b[0;34m\u001b[0m\u001b[0m\n\u001b[0m\u001b[1;32m    668\u001b[0m     \u001b[0mim\u001b[0m\u001b[0;34m.\u001b[0m\u001b[0mseek\u001b[0m\u001b[0;34m(\u001b[0m\u001b[0;36m0\u001b[0m\u001b[0;34m)\u001b[0m\u001b[0;34m\u001b[0m\u001b[0m\n\u001b[1;32m    669\u001b[0m     \u001b[0mimgdata\u001b[0m \u001b[0;34m=\u001b[0m \u001b[0;32mNone\u001b[0m\u001b[0;34m\u001b[0m\u001b[0m\n",
      "\u001b[0;31mTypeError\u001b[0m: a bytes-like object is required, not 'str'"
     ]
    }
   ],
   "source": [
    "neoconvert(\"erolord\",\"2039109\",23)"
   ]
  },
  {
   "cell_type": "code",
   "execution_count": null,
   "metadata": {
    "collapsed": true
   },
   "outputs": [],
   "source": []
  }
 ],
 "metadata": {
  "kernelspec": {
   "display_name": "Python 3",
   "language": "python",
   "name": "python3"
  },
  "language_info": {
   "codemirror_mode": {
    "name": "ipython",
    "version": 3
   },
   "file_extension": ".py",
   "mimetype": "text/x-python",
   "name": "python",
   "nbconvert_exporter": "python",
   "pygments_lexer": "ipython3",
   "version": "3.6.2"
  }
 },
 "nbformat": 4,
 "nbformat_minor": 2
}
