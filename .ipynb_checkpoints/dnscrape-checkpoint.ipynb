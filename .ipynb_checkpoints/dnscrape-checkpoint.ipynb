{
 "cells": [
  {
   "cell_type": "code",
   "execution_count": null,
   "metadata": {
    "collapsed": true
   },
   "outputs": [],
   "source": [
    "import requests\n",
    "from bs4 import BeautifulSoup\n",
    "import urllib.request\n",
    "import os,sys\n",
    "import json\n",
    "# import neopdfmerge\n",
    "\n",
    "def nhentai(manga_id):\n",
    "    site_url = \"https://nhentai.net/g/\"\n",
    "    image_url = \"https://i.nhentai.net/galleries/\"\n",
    "    sizemanga = len(BeautifulSoup(requests.get(site_url+manga_id).content,\"html.parser\").find_all(\"div\",{\"class\":\"thumb-container\"}))\n",
    "    cover = BeautifulSoup(requests.get(site_url+manga_id).content,\"html.parser\").find(\"meta\",  property=\"og:image\")[\"content\"].split(\"/\")\n",
    "    path = \"./nhentai/\"+manga_id\n",
    "    os.mkdir( path, 0o777 )\n",
    "    for page in range(1,sizemanga+1): \n",
    "        urllib.request.urlretrieve(image_url+cover[-2]+\"/\"+str(page)+\".jpg\",\"./nhentai/\"+manga_id+\"/\"+str(page)+\".jpg\")\n",
    "        print(str(page)+\".jpg downloaded\")\n",
    "#     neopdfmerge.neoconvert(\"nhentai\",manga_id,sizemanga)\n",
    "\n",
    "def erolord(manga_id):\n",
    "    site_url = \"http://erolord.com/doujin/\"\n",
    "    image_url = \"http://erolord.com/images/\"\n",
    "    sizemanga = BeautifulSoup(requests.get(site_url+manga_id).content,\"html.parser\").find(\"a\",{'id': 'ahr1'})[\"href\"].split(\"=\")[-1]\n",
    "    cover = BeautifulSoup(requests.get(site_url+manga_id).content,\"html.parser\").find(\"img\", {'id': 'p1'})[\"src\"].split(\"/\")\n",
    "    path = \"./erolord/\"+manga_id\n",
    "    os.mkdir( path, 0o777 )\n",
    "    for page in range(1,int(sizemanga)+1): \n",
    "        urllib.request.urlretrieve(image_url+cover[2]+\"/\"+manga_id+\"/\"+str(page)+\".jpg\",\"./erolord/\"+manga_id+\"/\"+str(page)+\".jpg\")\n",
    "        print(str(page)+\".jpg downloaded\")\n",
    "#     neopdfmerge.neoconvert(\"erolord\",manga_id,sizemanga)"
   ]
  }
 ],
 "metadata": {
  "kernelspec": {
   "display_name": "Python 3",
   "language": "python",
   "name": "python3"
  },
  "language_info": {
   "codemirror_mode": {
    "name": "ipython",
    "version": 3
   },
   "file_extension": ".py",
   "mimetype": "text/x-python",
   "name": "python",
   "nbconvert_exporter": "python",
   "pygments_lexer": "ipython3",
   "version": "3.6.2"
  }
 },
 "nbformat": 4,
 "nbformat_minor": 2
}
